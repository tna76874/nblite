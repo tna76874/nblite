{
  "metadata": {
    "language_info": {
      "codemirror_mode": {
        "name": "python",
        "version": 3
      },
      "file_extension": ".py",
      "mimetype": "text/x-python",
      "name": "python",
      "nbconvert_exporter": "python",
      "pygments_lexer": "ipython3",
      "version": "3.8"
    },
    "kernelspec": {
      "name": "python",
      "display_name": "Python (Pyodide)",
      "language": "python"
    }
  },
  "nbformat_minor": 4,
  "nbformat": 4,
  "cells": [
    {
      "cell_type": "code",
      "source": "%pip install -r modules/requirements_ph.txt\nfrom modules.ph import *",
      "metadata": {
        "trusted": true
      },
      "execution_count": null,
      "outputs": []
    },
    {
      "cell_type": "code",
      "source": "df_data = pd.read_excel('data_puls.xlsx')",
      "metadata": {
        "trusted": true
      },
      "execution_count": null,
      "outputs": []
    },
    {
      "cell_type": "markdown",
      "source": "Es wird das folgende mathematische Modell für den Puls verwendet:\n$$f(x) = a \\cdot \\left ( 1-\\frac{1}{1+e^{-b\\cdot(x-c)}} \\right )+d$$",
      "metadata": {}
    },
    {
      "cell_type": "code",
      "source": "def model(p, x):\n    a,b,c,d = p\n    return a* (1-1/(1+np.exp(-b*(x-c))))+d\nstartwerte=[180,5,2,60]",
      "metadata": {
        "trusted": true
      },
      "execution_count": null,
      "outputs": []
    },
    {
      "cell_type": "code",
      "source": "x_key = 'Zeit in min'\ny_key = 'Puls in bpm'\n\nfig,ax = plt.subplots(figsize=(10,5))\ndf_data.plot(ax=ax,x=x_key,y=y_key, xlabel='Zeit in min', ylabel='Puls in bpm',style='.')\n\nvon, bis = 0, -1\nX = df_data[x_key][von:bis]\nY = df_data[y_key][von:bis]\nup , p, yfit, out = uODR(model,startwerte,X,Y,sy=10)\nX_fit = np.linspace(X.values[0],X.values[-1],100)\nY_fit = model(p, X_fit)\nax.plot(X_fit,Y_fit)\n#fig.savefig('plot.jpg',dpi=600)",
      "metadata": {
        "trusted": true
      },
      "execution_count": null,
      "outputs": []
    },
    {
      "cell_type": "code",
      "source": "results = {\n            'a' : up[0] *ureg('1/min'),\n            'b' : up[1] *ureg('1/min'),\n            'c' : up[2] *ureg('min'),\n            'd' : up[3] *ureg('1/min'),\n          }\nresults['P0'] = (results['a']+results['d']).to('1/min')\nfor idx,el in results.items():\n    print(f\"{idx}={el}\")",
      "metadata": {
        "trusted": true
      },
      "execution_count": null,
      "outputs": []
    },
    {
      "cell_type": "markdown",
      "source": "Dabei ist $P_0$ der Puls während der Belastungsphase und $d$ der Ruhepuls.",
      "metadata": {}
    }
  ]
}