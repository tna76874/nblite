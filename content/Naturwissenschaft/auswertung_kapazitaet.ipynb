{
  "metadata": {
    "language_info": {
      "codemirror_mode": {
        "name": "python",
        "version": 3
      },
      "file_extension": ".py",
      "mimetype": "text/x-python",
      "name": "python",
      "nbconvert_exporter": "python",
      "pygments_lexer": "ipython3",
      "version": "3.8"
    },
    "kernelspec": {
      "name": "python",
      "display_name": "Python (Pyodide)",
      "language": "python"
    }
  },
  "nbformat_minor": 4,
  "nbformat": 4,
  "cells": [
    {
      "cell_type": "code",
      "source": "%pip install -r modules/requirements_ph.txt\nfrom modules.ph import *\nfrom scipy.stats import sem\n%pip install parse\nimport parse",
      "metadata": {
        "trusted": true
      },
      "execution_count": null,
      "outputs": []
    },
    {
      "cell_type": "code",
      "source": "df_data = pd.read_excel('data_kapazitaet.xlsx')\ndf_data",
      "metadata": {
        "trusted": true
      },
      "execution_count": null,
      "outputs": []
    },
    {
      "cell_type": "code",
      "source": "# Einheiten parsen\nunit_dict = {parse.parse(\"{groesse} in {unit}\", column).named['groesse']: pe(parse.parse(\"{groesse} in {unit}\", column).named['unit']) for column in df_data.columns}\nunit_dict",
      "metadata": {
        "trusted": true
      },
      "execution_count": null,
      "outputs": []
    },
    {
      "cell_type": "code",
      "source": "# Mittelwerte und Fehler berechnen\ndf_eval = df_data.groupby(['Spannung in V', 'Abstand d in mm', 'Fläche in cm**2'])['Ladung in C'].agg(['mean', 'sem']).reset_index()\ndf_eval['Ladung in C'] = df_eval.apply(lambda k: ufloat(k['mean'],k['sem']), axis=1)\ndf_eval",
      "metadata": {
        "trusted": true
      },
      "execution_count": null,
      "outputs": []
    },
    {
      "cell_type": "code",
      "source": "# Proportionalitäten untersuchen\nA=df_eval.loc[(df_eval['Abstand d in mm'] == 4) & (df_eval['Fläche in cm**2'] == 250) & (df_eval['Spannung in V'] == 200), 'Ladung in C'].values[0]\nB=df_eval.loc[(df_eval['Abstand d in mm'] == 2) & (df_eval['Fläche in cm**2'] == 250) & (df_eval['Spannung in V'] == 200), 'Ladung in C'].values[0]\n\nA/B",
      "metadata": {
        "trusted": true
      },
      "execution_count": null,
      "outputs": []
    },
    {
      "cell_type": "code",
      "source": "# Auswertung mit Regression\ndf_plot = df_eval[(df_eval['Abstand d in mm'] == 4) & (df_eval['Fläche in cm**2'] == 250)]\ndf_plot",
      "metadata": {
        "trusted": true
      },
      "execution_count": null,
      "outputs": []
    },
    {
      "cell_type": "code",
      "source": "def model(p, x):\n    a,b = p\n    return a*x+b\nstartwerte=[1,1]",
      "metadata": {
        "trusted": true
      },
      "execution_count": null,
      "outputs": []
    },
    {
      "cell_type": "code",
      "source": "x_key = 'Spannung in V'\ny_key = 'mean'\n\nx_err = 5\ny_err = df_plot['sem'].values\n\nfig,ax = plt.subplots(figsize=(10,5))\ndf_plot.plot(ax=ax,x=x_key,y=y_key, xlabel=f'Spannung in V', ylabel=f'Ladung in C',style='.',xerr=x_err, yerr=y_err, linestyle='None')\nax.grid(True)\nax.legend().set_visible(False)\n\nX = df_plot[x_key]\nY = df_plot[y_key]\nup , p, yfit, out = uODR(model,startwerte,X,Y,sx=x_err,sy=df_plot['sem'].values)\nX_fit = np.linspace(X.values[0],X.values[-1],100)\nY_fit = model(p, X_fit)\nax.plot(X_fit,Y_fit)\n#fig.savefig('plot.pdf',dpi=600)",
      "metadata": {
        "trusted": true
      },
      "execution_count": null,
      "outputs": []
    },
    {
      "cell_type": "code",
      "source": "results = {\n            'a' : up[0] * (unit_dict['Ladung']/unit_dict['Spannung']).to('pF'),\n            'b' : up[1] * unit_dict['Ladung'].to('nC'),\n          }\nfor idx,el in results.items():\n    print(f\"{idx}={el}\")",
      "metadata": {
        "trusted": true
      },
      "execution_count": null,
      "outputs": []
    }
  ]
}