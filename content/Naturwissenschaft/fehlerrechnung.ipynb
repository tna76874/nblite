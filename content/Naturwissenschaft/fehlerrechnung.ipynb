{
  "metadata": {
    "language_info": {
      "codemirror_mode": {
        "name": "python",
        "version": 3
      },
      "file_extension": ".py",
      "mimetype": "text/x-python",
      "name": "python",
      "nbconvert_exporter": "python",
      "pygments_lexer": "ipython3",
      "version": "3.8"
    },
    "kernelspec": {
      "name": "python",
      "display_name": "Python (Pyodide)",
      "language": "python"
    }
  },
  "nbformat_minor": 4,
  "nbformat": 4,
  "cells": [
    {
      "cell_type": "code",
      "source": "%pip install -r modules/requirements_ph.txt\nfrom modules.ph import *",
      "metadata": {
        "trusted": true
      },
      "execution_count": 1,
      "outputs": []
    },
    {
      "cell_type": "markdown",
      "source": "Eine Strecke $s$ und eine Zeit $t$ werden gemessen. Die Messunsicherheit der Strecke beträgt ca. 10cm und die der Zeit 0.5s.",
      "metadata": {}
    },
    {
      "cell_type": "code",
      "source": "s = ufloat(5,0.1) * ureg('m')\nt = ufloat(2,0.5) * ureg('s')",
      "metadata": {
        "trusted": true
      },
      "execution_count": 2,
      "outputs": []
    },
    {
      "cell_type": "code",
      "source": "s",
      "metadata": {
        "trusted": true
      },
      "execution_count": 3,
      "outputs": [
        {
          "execution_count": 3,
          "output_type": "execute_result",
          "data": {
            "text/plain": "5.0+/-0.1 <Unit('meter')>",
            "text/html": "5.00+/-0.10 m",
            "text/latex": "$5.00+/-0.10\\ \\mathrm{m}$"
          },
          "metadata": {}
        }
      ]
    },
    {
      "cell_type": "code",
      "source": "t",
      "metadata": {
        "trusted": true
      },
      "execution_count": 4,
      "outputs": [
        {
          "execution_count": 4,
          "output_type": "execute_result",
          "data": {
            "text/plain": "2.0+/-0.5 <Unit('second')>",
            "text/html": "2.0+/-0.5 s",
            "text/latex": "$2.0+/-0.5\\ \\mathrm{s}$"
          },
          "metadata": {}
        }
      ]
    },
    {
      "cell_type": "markdown",
      "source": "Die Geschwindigkeit $v=\\frac{s}{t}$, die aus fehlerbehafteten Größen berechnet wird, ist auch mit einem Fehler behaftet. ",
      "metadata": {}
    },
    {
      "cell_type": "code",
      "source": "v = s/t\n\nv",
      "metadata": {
        "trusted": true
      },
      "execution_count": 5,
      "outputs": [
        {
          "execution_count": 5,
          "output_type": "execute_result",
          "data": {
            "text/plain": "2.5+/-0.6269968101992226 <Unit('meter / second')>",
            "text/html": "2.5+/-0.6 m/s",
            "text/latex": "$2.5+/-0.6\\ \\frac{\\mathrm{m}}{\\mathrm{s}}$"
          },
          "metadata": {}
        }
      ]
    },
    {
      "cell_type": "markdown",
      "source": "Aufgrund von den Messungenauigkeiten der Strecke und der Zeit, lässt sich die Geschwindigkeit nicht genauer als auf 0,6m/s angeben. Die Geschwindigkeit des gemessenen Gegenstandes liegt mit ziemlicher Sicherheit zwischen 1,9m/s und 3,1m/s.",
      "metadata": {}
    }
  ]
}